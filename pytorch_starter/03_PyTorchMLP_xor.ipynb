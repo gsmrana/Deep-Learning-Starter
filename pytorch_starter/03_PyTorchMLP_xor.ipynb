{
 "cells": [
  {
   "cell_type": "code",
   "execution_count": 1,
   "id": "a781f988",
   "metadata": {},
   "outputs": [],
   "source": [
    "import os\n",
    "import sys\n",
    "import random\n",
    "import numpy as np\n",
    "import pandas as pd\n",
    "import seaborn as sns\n",
    "import matplotlib.pyplot as plt\n",
    "from collections import Counter\n",
    "\n",
    "import torch\n",
    "import torch.nn as nn\n",
    "import torch.nn.functional as F\n",
    "from torch.utils.data import Dataset, DataLoader\n",
    "from torch.utils.data.dataset import random_split\n",
    "from torchinfo import summary\n",
    "\n",
    "from sklearn.preprocessing import StandardScaler\n",
    "from sklearn.model_selection import train_test_split\n",
    "from sklearn.metrics import confusion_matrix, accuracy_score\n",
    "\n",
    "# to get deterministic output\n",
    "torch.manual_seed(123)\n",
    "\n",
    "sys.path.append(os.path.abspath(\"..\"))"
   ]
  },
  {
   "cell_type": "markdown",
   "id": "f8b8abbf",
   "metadata": {},
   "source": [
    "### Loading the Dataset"
   ]
  },
  {
   "cell_type": "code",
   "execution_count": 2,
   "id": "94490c81",
   "metadata": {},
   "outputs": [
    {
     "data": {
      "text/html": [
       "<div>\n",
       "<style scoped>\n",
       "    .dataframe tbody tr th:only-of-type {\n",
       "        vertical-align: middle;\n",
       "    }\n",
       "\n",
       "    .dataframe tbody tr th {\n",
       "        vertical-align: top;\n",
       "    }\n",
       "\n",
       "    .dataframe thead th {\n",
       "        text-align: right;\n",
       "    }\n",
       "</style>\n",
       "<table border=\"1\" class=\"dataframe\">\n",
       "  <thead>\n",
       "    <tr style=\"text-align: right;\">\n",
       "      <th></th>\n",
       "      <th>x1</th>\n",
       "      <th>x2</th>\n",
       "      <th>class label</th>\n",
       "    </tr>\n",
       "  </thead>\n",
       "  <tbody>\n",
       "    <tr>\n",
       "      <th>0</th>\n",
       "      <td>0.781306</td>\n",
       "      <td>1.062984</td>\n",
       "      <td>0</td>\n",
       "    </tr>\n",
       "    <tr>\n",
       "      <th>1</th>\n",
       "      <td>-1.060524</td>\n",
       "      <td>-1.095550</td>\n",
       "      <td>0</td>\n",
       "    </tr>\n",
       "    <tr>\n",
       "      <th>2</th>\n",
       "      <td>0.632125</td>\n",
       "      <td>0.674028</td>\n",
       "      <td>0</td>\n",
       "    </tr>\n",
       "    <tr>\n",
       "      <th>3</th>\n",
       "      <td>-1.424712</td>\n",
       "      <td>0.535203</td>\n",
       "      <td>1</td>\n",
       "    </tr>\n",
       "    <tr>\n",
       "      <th>4</th>\n",
       "      <td>1.383161</td>\n",
       "      <td>1.368510</td>\n",
       "      <td>0</td>\n",
       "    </tr>\n",
       "    <tr>\n",
       "      <th>...</th>\n",
       "      <td>...</td>\n",
       "      <td>...</td>\n",
       "      <td>...</td>\n",
       "    </tr>\n",
       "    <tr>\n",
       "      <th>745</th>\n",
       "      <td>0.792484</td>\n",
       "      <td>0.839275</td>\n",
       "      <td>0</td>\n",
       "    </tr>\n",
       "    <tr>\n",
       "      <th>746</th>\n",
       "      <td>0.582466</td>\n",
       "      <td>-0.749250</td>\n",
       "      <td>1</td>\n",
       "    </tr>\n",
       "    <tr>\n",
       "      <th>747</th>\n",
       "      <td>-1.593475</td>\n",
       "      <td>0.671721</td>\n",
       "      <td>1</td>\n",
       "    </tr>\n",
       "    <tr>\n",
       "      <th>748</th>\n",
       "      <td>-0.812671</td>\n",
       "      <td>-0.268542</td>\n",
       "      <td>0</td>\n",
       "    </tr>\n",
       "    <tr>\n",
       "      <th>749</th>\n",
       "      <td>-1.286524</td>\n",
       "      <td>0.655459</td>\n",
       "      <td>1</td>\n",
       "    </tr>\n",
       "  </tbody>\n",
       "</table>\n",
       "<p>750 rows × 3 columns</p>\n",
       "</div>"
      ],
      "text/plain": [
       "           x1        x2  class label\n",
       "0    0.781306  1.062984            0\n",
       "1   -1.060524 -1.095550            0\n",
       "2    0.632125  0.674028            0\n",
       "3   -1.424712  0.535203            1\n",
       "4    1.383161  1.368510            0\n",
       "..        ...       ...          ...\n",
       "745  0.792484  0.839275            0\n",
       "746  0.582466 -0.749250            1\n",
       "747 -1.593475  0.671721            1\n",
       "748 -0.812671 -0.268542            0\n",
       "749 -1.286524  0.655459            1\n",
       "\n",
       "[750 rows x 3 columns]"
      ]
     },
     "execution_count": 2,
     "metadata": {},
     "output_type": "execute_result"
    }
   ],
   "source": [
    "df = pd.read_csv(\"../datasets/xor.csv\")\n",
    "df"
   ]
  },
  {
   "cell_type": "code",
   "execution_count": 3,
   "id": "f5e22be2",
   "metadata": {},
   "outputs": [
    {
     "name": "stdout",
     "output_type": "stream",
     "text": [
      "Dataset size: (750, 2) (750,)\n"
     ]
    }
   ],
   "source": [
    "X = df[[\"x1\", \"x2\"]].values\n",
    "y = df[\"class label\"].values\n",
    "\n",
    "print(\"Dataset size:\", X.shape, y.shape)"
   ]
  },
  {
   "cell_type": "markdown",
   "id": "635eec3f",
   "metadata": {},
   "source": [
    "### Data Preprocessing"
   ]
  },
  {
   "cell_type": "code",
   "execution_count": 4,
   "id": "3ad8c815",
   "metadata": {},
   "outputs": [],
   "source": [
    "# scaling for better convergence\n",
    "# scaler = StandardScaler()\n",
    "# X = scaler.fit_transform(X)"
   ]
  },
  {
   "cell_type": "code",
   "execution_count": 5,
   "id": "7a4dc918",
   "metadata": {},
   "outputs": [
    {
     "name": "stdout",
     "output_type": "stream",
     "text": [
      "Training set  : (573, 2) (573,)\n",
      "Validation set: (64, 2) (64,)\n",
      "Test set      :  (113, 2) (113,)\n"
     ]
    }
   ],
   "source": [
    "X_train, X_test, y_train, y_test = train_test_split(X, y, test_size=0.15, random_state=1, stratify=y)\n",
    "X_train, X_val, y_train, y_val = train_test_split(X_train, y_train, test_size=0.1, random_state=1, stratify=y_train)\n",
    "\n",
    "print(\"Training set  :\", X_train.shape, y_train.shape)\n",
    "print(\"Validation set:\", X_val.shape, y_val.shape)\n",
    "print(\"Test set      : \", X_test.shape, y_test.shape)"
   ]
  },
  {
   "cell_type": "code",
   "execution_count": 6,
   "id": "b9e46f49",
   "metadata": {},
   "outputs": [
    {
     "name": "stdout",
     "output_type": "stream",
     "text": [
      "Training labels:\n",
      "1: 286\n",
      "0: 287\n",
      "Validation labels:\n",
      "1: 32\n",
      "0: 32\n",
      "Test labels:\n",
      "0: 57\n",
      "1: 56\n"
     ]
    }
   ],
   "source": [
    "print(\"Training labels:\")\n",
    "y_train_counts = Counter(y_train)\n",
    "for key, value in y_train_counts.items():\n",
    "    print(f\"{key}: {value}\")\n",
    "\n",
    "print(\"Validation labels:\")\n",
    "y_val_counts = Counter(y_val)\n",
    "for key, value in y_val_counts.items():\n",
    "    print(f\"{key}: {value}\")\n",
    "\n",
    "print(\"Test labels:\")\n",
    "y_test_counts = Counter(y_test)\n",
    "for key, value in y_test_counts.items():\n",
    "    print(f\"{key}: {value}\")"
   ]
  },
  {
   "cell_type": "markdown",
   "id": "aad10ddd",
   "metadata": {},
   "source": [
    "### Visualize the dataset"
   ]
  },
  {
   "cell_type": "code",
   "execution_count": 7,
   "id": "6baa0b62",
   "metadata": {},
   "outputs": [
    {
     "data": {
      "image/png": "[encoded data removed]",
      "text/plain": [
       "<Figure size 640x480 with 1 Axes>"
      ]
     },
     "metadata": {},
     "output_type": "display_data"
    }
   ],
   "source": [
    "from modules.plotting_helper import plot_feature2d\n",
    "plot_feature2d(X_train, y_train)"
   ]
  },
  {
   "cell_type": "markdown",
   "id": "78fd5c8a",
   "metadata": {},
   "source": [
    "### Define the DataLoader"
   ]
  },
  {
   "cell_type": "code",
   "execution_count": 8,
   "id": "b1c73682",
   "metadata": {},
   "outputs": [],
   "source": [
    "class MyDataset(Dataset):\n",
    "    def __init__(self, X, y):\n",
    "        self.features = torch.tensor(X, dtype=torch.float32)\n",
    "        self.labels = torch.tensor(y, dtype=torch.int64)\n",
    "\n",
    "    def __getitem__(self, index):\n",
    "        x = self.features[index]\n",
    "        y = self.labels[index]        \n",
    "        return x, y\n",
    "\n",
    "    def __len__(self):\n",
    "        return self.labels.shape[0]\n",
    "    \n",
    "train_ds = MyDataset(X_train, y_train)\n",
    "val_ds = MyDataset(X_val, y_val)\n",
    "test_ds = MyDataset(X_test, y_test)\n",
    "\n",
    "train_loader = DataLoader(dataset=train_ds, batch_size=32, shuffle=True)\n",
    "val_loader = DataLoader(dataset=val_ds, batch_size=32, shuffle=False)\n",
    "test_loader = DataLoader(dataset=test_ds, batch_size=32, shuffle=False)"
   ]
  },
  {
   "cell_type": "markdown",
   "id": "33b1ea2d",
   "metadata": {},
   "source": [
    "### Design the Model"
   ]
  },
  {
   "cell_type": "code",
   "execution_count": 9,
   "id": "f94f5cba",
   "metadata": {},
   "outputs": [
    {
     "data": {
      "text/plain": [
       "=================================================================\n",
       "Layer (type:depth-idx)                   Param #\n",
       "=================================================================\n",
       "PyTorchMLP                               --\n",
       "├─Sequential: 1-1                        --\n",
       "│    └─Linear: 2-1                       75\n",
       "│    └─ReLU: 2-2                         --\n",
       "│    └─Linear: 2-3                       390\n",
       "│    └─ReLU: 2-4                         --\n",
       "│    └─Linear: 2-5                       32\n",
       "=================================================================\n",
       "Total params: 497\n",
       "Trainable params: 497\n",
       "Non-trainable params: 0\n",
       "================================================================="
      ]
     },
     "execution_count": 9,
     "metadata": {},
     "output_type": "execute_result"
    }
   ],
   "source": [
    "class PyTorchMLP(nn.Module):\n",
    "    def __init__(self, num_features, num_classes):\n",
    "        super().__init__()\n",
    "        self.all_layers = nn.Sequential(\n",
    "                \n",
    "            # 1st hidden layer\n",
    "            nn.Linear(num_features, 25),\n",
    "            nn.ReLU(),\n",
    "\n",
    "            # 2nd hidden layer\n",
    "            nn.Linear(25, 15),\n",
    "            nn.ReLU(),\n",
    "\n",
    "            # output layer\n",
    "            nn.Linear(15, num_classes),\n",
    "        )\n",
    "\n",
    "    def forward(self, x):\n",
    "        logits = self.all_layers(x)\n",
    "        return logits\n",
    "    \n",
    "    def predict(self, x):\n",
    "        self = self.eval()\n",
    "        with torch.inference_mode():\n",
    "            return self(x)\n",
    "    \n",
    "model = PyTorchMLP(num_features=2, num_classes=2)\n",
    "optimizer = torch.optim.SGD(model.parameters(), lr=0.05)\n",
    "summary(model)"
   ]
  },
  {
   "cell_type": "markdown",
   "id": "eb39ccaa",
   "metadata": {},
   "source": [
    "### Train the model"
   ]
  },
  {
   "cell_type": "code",
   "execution_count": 10,
   "id": "df5cc2fb",
   "metadata": {},
   "outputs": [],
   "source": [
    "def compute_accuracy(model, dataloader):\n",
    "    correct = 0\n",
    "    total_samples = 0  \n",
    "    for x_batch, y_batch in dataloader:\n",
    "        logits = model.predict(x_batch)\n",
    "        y_preds = torch.argmax(logits, dim=1)\n",
    "        compare = y_batch == y_preds\n",
    "        correct += torch.sum(compare)\n",
    "        total_samples += len(compare)\n",
    "    return correct / total_samples"
   ]
  },
  {
   "cell_type": "code",
   "execution_count": 11,
   "id": "4872f3ec",
   "metadata": {},
   "outputs": [
    {
     "name": "stdout",
     "output_type": "stream",
     "text": [
      " -> batch 001 | loss: 0.72\n",
      " -> batch 006 | loss: 0.68\n",
      " -> batch 011 | loss: 0.67\n",
      " -> batch 016 | loss: 0.62\n",
      "Epoch: 001/010 | epoch_loss: 11.98 | train_acc: 0.77 | val_acc: 0.75\n",
      " -> batch 001 | loss: 0.62\n",
      " -> batch 006 | loss: 0.60\n",
      " -> batch 011 | loss: 0.58\n",
      " -> batch 016 | loss: 0.55\n",
      "Epoch: 002/010 | epoch_loss: 10.62 | train_acc: 0.99 | val_acc: 1.00\n",
      " -> batch 001 | loss: 0.55\n",
      " -> batch 006 | loss: 0.54\n",
      " -> batch 011 | loss: 0.48\n",
      " -> batch 016 | loss: 0.49\n",
      "Epoch: 003/010 | epoch_loss: 9.21 | train_acc: 0.98 | val_acc: 1.00\n",
      " -> batch 001 | loss: 0.48\n",
      " -> batch 006 | loss: 0.47\n",
      " -> batch 011 | loss: 0.43\n",
      " -> batch 016 | loss: 0.40\n",
      "Epoch: 004/010 | epoch_loss: 7.62 | train_acc: 0.99 | val_acc: 1.00\n",
      " -> batch 001 | loss: 0.33\n",
      " -> batch 006 | loss: 0.37\n",
      " -> batch 011 | loss: 0.30\n",
      " -> batch 016 | loss: 0.28\n",
      "Epoch: 005/010 | epoch_loss: 6.00 | train_acc: 0.99 | val_acc: 1.00\n",
      " -> batch 001 | loss: 0.24\n",
      " -> batch 006 | loss: 0.31\n",
      " -> batch 011 | loss: 0.24\n",
      " -> batch 016 | loss: 0.25\n",
      "Epoch: 006/010 | epoch_loss: 4.60 | train_acc: 0.99 | val_acc: 1.00\n",
      " -> batch 001 | loss: 0.20\n",
      " -> batch 006 | loss: 0.22\n",
      " -> batch 011 | loss: 0.18\n",
      " -> batch 016 | loss: 0.19\n",
      "Epoch: 007/010 | epoch_loss: 3.54 | train_acc: 0.99 | val_acc: 1.00\n",
      " -> batch 001 | loss: 0.17\n",
      " -> batch 006 | loss: 0.18\n",
      " -> batch 011 | loss: 0.15\n",
      " -> batch 016 | loss: 0.15\n",
      "Epoch: 008/010 | epoch_loss: 2.80 | train_acc: 0.98 | val_acc: 1.00\n",
      " -> batch 001 | loss: 0.14\n",
      " -> batch 006 | loss: 0.14\n",
      " -> batch 011 | loss: 0.11\n",
      " -> batch 016 | loss: 0.11\n",
      "Epoch: 009/010 | epoch_loss: 2.28 | train_acc: 0.99 | val_acc: 1.00\n",
      " -> batch 001 | loss: 0.12\n",
      " -> batch 006 | loss: 0.12\n",
      " -> batch 011 | loss: 0.11\n",
      " -> batch 016 | loss: 0.11\n",
      "Epoch: 010/010 | epoch_loss: 1.92 | train_acc: 0.98 | val_acc: 1.00\n"
     ]
    }
   ],
   "source": [
    "history = {\n",
    "    'loss': [],\n",
    "    'train_acc': [],\n",
    "    'val_acc': [],\n",
    "}\n",
    "\n",
    "def train(model, num_epochs):\n",
    "    for epoch in range(num_epochs):\n",
    "        epoch_loss = 0.0\n",
    "        model = model.train()        \n",
    "        for batch_idx, (x_batch, y_batch) in enumerate(train_loader):\n",
    "            # forward pass\n",
    "            logits = model(x_batch)\n",
    "            loss = F.cross_entropy(logits, y_batch)\n",
    "            \n",
    "            # backward pass\n",
    "            optimizer.zero_grad()\n",
    "            loss.backward()        \n",
    "            optimizer.step()\n",
    "            \n",
    "            epoch_loss += abs(loss)\n",
    "            history['loss'].append(loss)\n",
    "            if not batch_idx % 5:\n",
    "                print(f' -> batch {batch_idx+1:03d} | loss: {loss:.2f}')\n",
    "            \n",
    "        train_acc = compute_accuracy(model, train_loader)\n",
    "        val_acc = compute_accuracy(model, val_loader)\n",
    "        history['train_acc'].append(train_acc)\n",
    "        history['val_acc'].append(val_acc)\n",
    "        print(f'Epoch: {epoch+1:03d}/{num_epochs:03d} | epoch_loss: {epoch_loss:.2f}',\n",
    "            f'| train_acc: {train_acc:.2f} | val_acc: {val_acc:.2f}')\n",
    "   \n",
    "train(model, num_epochs=10)"
   ]
  },
  {
   "cell_type": "code",
   "execution_count": 12,
   "id": "7f009b5f",
   "metadata": {},
   "outputs": [
    {
     "name": "stdout",
     "output_type": "stream",
     "text": [
      "all_layers.0.weight -> torch.Size([25, 2])\n",
      "all_layers.0.bias -> torch.Size([25])\n",
      "all_layers.2.weight -> torch.Size([15, 25])\n",
      "all_layers.2.bias -> torch.Size([15])\n",
      "all_layers.4.weight -> torch.Size([2, 15])\n",
      "all_layers.4.bias -> torch.Size([2])\n"
     ]
    }
   ],
   "source": [
    "# Print all parameters\n",
    "for name, param in model.named_parameters():\n",
    "    print(f\"{name} -> {param.shape}\")\n",
    "    #print(param.data.numpy())      "
   ]
  },
  {
   "cell_type": "markdown",
   "id": "220d88ae",
   "metadata": {},
   "source": [
    "### Evaluate the Model"
   ]
  },
  {
   "cell_type": "code",
   "execution_count": 13,
   "id": "ea3ba0ec",
   "metadata": {},
   "outputs": [
    {
     "name": "stdout",
     "output_type": "stream",
     "text": [
      "Train Accuracy: 0.98\n",
      "Val Accuracy  : 1.00\n",
      "Test Accuracy : 1.00\n"
     ]
    }
   ],
   "source": [
    "train_acc = compute_accuracy(model, train_loader)\n",
    "val_acc = compute_accuracy(model, val_loader)\n",
    "test_acc = compute_accuracy(model, test_loader)\n",
    "\n",
    "print(f\"Train Accuracy: {train_acc:.2f}\")\n",
    "print(f\"Val Accuracy  : {val_acc:.2f}\")\n",
    "print(f\"Test Accuracy : {test_acc:.2f}\")"
   ]
  },
  {
   "cell_type": "markdown",
   "id": "91eeebf9",
   "metadata": {},
   "source": [
    "### Visualize the Results"
   ]
  },
  {
   "cell_type": "code",
   "execution_count": 14,
   "id": "e4013b8a",
   "metadata": {},
   "outputs": [
    {
     "data": {
      "image/png": "[encoded data removed]",
      "text/plain": [
       "<Figure size 640x480 with 1 Axes>"
      ]
     },
     "metadata": {},
     "output_type": "display_data"
    }
   ],
   "source": [
    "from modules.plotting_helper import plot_decision_regions\n",
    "plot_decision_regions(X_train, y_train, classifier=model)"
   ]
  }
 ],
 "metadata": {
  "kernelspec": {
   "display_name": "Python 3",
   "language": "python",
   "name": "python3"
  },
  "language_info": {
   "codemirror_mode": {
    "name": "ipython",
    "version": 3
   },
   "file_extension": ".py",
   "mimetype": "text/x-python",
   "name": "python",
   "nbconvert_exporter": "python",
   "pygments_lexer": "ipython3",
   "version": "3.12.10"
  }
 },
 "nbformat": 4,
 "nbformat_minor": 5
}
