{
 "cells": [
  {
   "cell_type": "code",
   "execution_count": 1,
   "id": "a781f988",
   "metadata": {},
   "outputs": [],
   "source": [
    "import os\n",
    "import sys\n",
    "import random\n",
    "import numpy as np\n",
    "import pandas as pd\n",
    "import seaborn as sns\n",
    "import matplotlib.pyplot as plt\n",
    "from collections import Counter\n",
    "\n",
    "import tensorflow as tf\n",
    "\n",
    "from sklearn.preprocessing import StandardScaler\n",
    "from sklearn.model_selection import train_test_split\n",
    "from sklearn.metrics import confusion_matrix, accuracy_score\n",
    "\n",
    "# to get deterministic output\n",
    "tf.random.set_seed(123)\n",
    "\n",
    "sys.path.append(os.path.abspath(\"..\"))"
   ]
  },
  {
   "cell_type": "markdown",
   "id": "f8b8abbf",
   "metadata": {},
   "source": [
    "### Loading the Dataset"
   ]
  },
  {
   "cell_type": "code",
   "execution_count": 2,
   "id": "94490c81",
   "metadata": {},
   "outputs": [
    {
     "data": {
      "text/html": [
       "<div>\n",
       "<style scoped>\n",
       "    .dataframe tbody tr th:only-of-type {\n",
       "        vertical-align: middle;\n",
       "    }\n",
       "\n",
       "    .dataframe tbody tr th {\n",
       "        vertical-align: top;\n",
       "    }\n",
       "\n",
       "    .dataframe thead th {\n",
       "        text-align: right;\n",
       "    }\n",
       "</style>\n",
       "<table border=\"1\" class=\"dataframe\">\n",
       "  <thead>\n",
       "    <tr style=\"text-align: right;\">\n",
       "      <th></th>\n",
       "      <th>x1</th>\n",
       "      <th>x2</th>\n",
       "      <th>label</th>\n",
       "    </tr>\n",
       "  </thead>\n",
       "  <tbody>\n",
       "    <tr>\n",
       "      <th>0</th>\n",
       "      <td>0.77</td>\n",
       "      <td>-1.14</td>\n",
       "      <td>0</td>\n",
       "    </tr>\n",
       "    <tr>\n",
       "      <th>1</th>\n",
       "      <td>-0.33</td>\n",
       "      <td>1.44</td>\n",
       "      <td>0</td>\n",
       "    </tr>\n",
       "    <tr>\n",
       "      <th>2</th>\n",
       "      <td>0.91</td>\n",
       "      <td>-3.07</td>\n",
       "      <td>0</td>\n",
       "    </tr>\n",
       "    <tr>\n",
       "      <th>3</th>\n",
       "      <td>-0.37</td>\n",
       "      <td>-1.91</td>\n",
       "      <td>0</td>\n",
       "    </tr>\n",
       "    <tr>\n",
       "      <th>4</th>\n",
       "      <td>-0.63</td>\n",
       "      <td>-1.53</td>\n",
       "      <td>0</td>\n",
       "    </tr>\n",
       "    <tr>\n",
       "      <th>5</th>\n",
       "      <td>0.39</td>\n",
       "      <td>-1.99</td>\n",
       "      <td>0</td>\n",
       "    </tr>\n",
       "    <tr>\n",
       "      <th>6</th>\n",
       "      <td>-0.49</td>\n",
       "      <td>-2.74</td>\n",
       "      <td>0</td>\n",
       "    </tr>\n",
       "    <tr>\n",
       "      <th>7</th>\n",
       "      <td>-0.68</td>\n",
       "      <td>-1.52</td>\n",
       "      <td>0</td>\n",
       "    </tr>\n",
       "    <tr>\n",
       "      <th>8</th>\n",
       "      <td>-0.10</td>\n",
       "      <td>-3.43</td>\n",
       "      <td>0</td>\n",
       "    </tr>\n",
       "    <tr>\n",
       "      <th>9</th>\n",
       "      <td>-0.05</td>\n",
       "      <td>-1.95</td>\n",
       "      <td>0</td>\n",
       "    </tr>\n",
       "    <tr>\n",
       "      <th>10</th>\n",
       "      <td>3.88</td>\n",
       "      <td>0.65</td>\n",
       "      <td>1</td>\n",
       "    </tr>\n",
       "    <tr>\n",
       "      <th>11</th>\n",
       "      <td>0.73</td>\n",
       "      <td>2.97</td>\n",
       "      <td>1</td>\n",
       "    </tr>\n",
       "    <tr>\n",
       "      <th>12</th>\n",
       "      <td>0.83</td>\n",
       "      <td>3.94</td>\n",
       "      <td>1</td>\n",
       "    </tr>\n",
       "    <tr>\n",
       "      <th>13</th>\n",
       "      <td>1.59</td>\n",
       "      <td>1.25</td>\n",
       "      <td>1</td>\n",
       "    </tr>\n",
       "    <tr>\n",
       "      <th>14</th>\n",
       "      <td>1.14</td>\n",
       "      <td>3.91</td>\n",
       "      <td>1</td>\n",
       "    </tr>\n",
       "    <tr>\n",
       "      <th>15</th>\n",
       "      <td>1.73</td>\n",
       "      <td>2.80</td>\n",
       "      <td>1</td>\n",
       "    </tr>\n",
       "    <tr>\n",
       "      <th>16</th>\n",
       "      <td>1.31</td>\n",
       "      <td>1.85</td>\n",
       "      <td>1</td>\n",
       "    </tr>\n",
       "    <tr>\n",
       "      <th>17</th>\n",
       "      <td>1.56</td>\n",
       "      <td>3.85</td>\n",
       "      <td>1</td>\n",
       "    </tr>\n",
       "    <tr>\n",
       "      <th>18</th>\n",
       "      <td>1.23</td>\n",
       "      <td>2.54</td>\n",
       "      <td>1</td>\n",
       "    </tr>\n",
       "    <tr>\n",
       "      <th>19</th>\n",
       "      <td>1.33</td>\n",
       "      <td>2.03</td>\n",
       "      <td>1</td>\n",
       "    </tr>\n",
       "  </tbody>\n",
       "</table>\n",
       "</div>"
      ],
      "text/plain": [
       "      x1    x2  label\n",
       "0   0.77 -1.14      0\n",
       "1  -0.33  1.44      0\n",
       "2   0.91 -3.07      0\n",
       "3  -0.37 -1.91      0\n",
       "4  -0.63 -1.53      0\n",
       "5   0.39 -1.99      0\n",
       "6  -0.49 -2.74      0\n",
       "7  -0.68 -1.52      0\n",
       "8  -0.10 -3.43      0\n",
       "9  -0.05 -1.95      0\n",
       "10  3.88  0.65      1\n",
       "11  0.73  2.97      1\n",
       "12  0.83  3.94      1\n",
       "13  1.59  1.25      1\n",
       "14  1.14  3.91      1\n",
       "15  1.73  2.80      1\n",
       "16  1.31  1.85      1\n",
       "17  1.56  3.85      1\n",
       "18  1.23  2.54      1\n",
       "19  1.33  2.03      1"
      ]
     },
     "execution_count": 2,
     "metadata": {},
     "output_type": "execute_result"
    }
   ],
   "source": [
    "df = pd.read_csv(\"../datasets/perceptron_toydata-truncated.txt\", sep=\"\\t\")\n",
    "df"
   ]
  },
  {
   "cell_type": "code",
   "execution_count": 3,
   "id": "7a4dc918",
   "metadata": {},
   "outputs": [
    {
     "name": "stdout",
     "output_type": "stream",
     "text": [
      "Train set: (20, 2) (20,)\n"
     ]
    }
   ],
   "source": [
    "X_train = df[[\"x1\", \"x2\"]].values\n",
    "y_train = df[\"label\"].values\n",
    "\n",
    "print(\"Train set:\", X_train.shape, y_train.shape)"
   ]
  },
  {
   "cell_type": "code",
   "execution_count": 4,
   "id": "93b26704",
   "metadata": {},
   "outputs": [],
   "source": [
    "# scaling for better convergence\n",
    "scaler = StandardScaler()\n",
    "X_train = scaler.fit_transform(X_train)"
   ]
  },
  {
   "cell_type": "code",
   "execution_count": 5,
   "id": "b9e46f49",
   "metadata": {},
   "outputs": [
    {
     "name": "stdout",
     "output_type": "stream",
     "text": [
      "Training labels:\n",
      "0: 10\n",
      "1: 10\n"
     ]
    }
   ],
   "source": [
    "print(\"Training labels:\")\n",
    "counts = Counter(y_train)\n",
    "for key, value in counts.items():\n",
    "    print(f\"{key}: {value}\")"
   ]
  },
  {
   "cell_type": "markdown",
   "id": "aad10ddd",
   "metadata": {},
   "source": [
    "### Visualize the Dataset"
   ]
  },
  {
   "cell_type": "code",
   "execution_count": 6,
   "id": "578ef585",
   "metadata": {},
   "outputs": [
    {
     "data": {
      "image/png": "[encoded data removed]",
      "text/plain": [
       "<Figure size 640x480 with 1 Axes>"
      ]
     },
     "metadata": {},
     "output_type": "display_data"
    }
   ],
   "source": [
    "from modules.plotting_helper import plot_feature2d\n",
    "plot_feature2d(X_train, y_train, markersize=8)"
   ]
  },
  {
   "cell_type": "markdown",
   "id": "b3ef3cce",
   "metadata": {},
   "source": [
    "### Define the DataLoader"
   ]
  },
  {
   "cell_type": "code",
   "execution_count": 7,
   "id": "5319f960",
   "metadata": {},
   "outputs": [],
   "source": [
    "# Reshape labels\n",
    "X_train = X_train.astype(np.float32)\n",
    "y_train = y_train.astype(np.float32)\n",
    "y_train_reshape = y_train.reshape(-1, 1)\n",
    "\n",
    "# TensorFlow dataset for mini-batching\n",
    "train_ds = tf.data.Dataset.from_tensor_slices((X_train, y_train_reshape)).shuffle(buffer_size=1024).batch(batch_size=10)"
   ]
  },
  {
   "cell_type": "markdown",
   "id": "33b1ea2d",
   "metadata": {},
   "source": [
    "### Design the Model"
   ]
  },
  {
   "cell_type": "code",
   "execution_count": 8,
   "id": "b07e43b1",
   "metadata": {},
   "outputs": [],
   "source": [
    "# ===== Logistic Regression model =====\n",
    "class LogisticRegression():\n",
    "    def __init__(self, input_dim):\n",
    "        self.weights = tf.Variable(tf.zeros(shape=(input_dim, 1), dtype=tf.float32))\n",
    "        self.bias = tf.Variable(tf.zeros(shape=(1), dtype=tf.float32))\n",
    "    \n",
    "    def __call__(self, x):\n",
    "        logits = tf.matmul(x, self.weights) + self.bias\n",
    "        return logits\n",
    "    \n",
    "    def predict(self, x):\n",
    "        return tf.sigmoid(self(x))\n",
    "    \n",
    "    def parameters(self):\n",
    "        return [self.weights, self.bias]\n",
    "\n",
    "# ===== Optimizer (manual SGD) =====\n",
    "class SGD:\n",
    "    def __init__(self, learning_rate):\n",
    "        self.lr = learning_rate\n",
    "\n",
    "    def apply_gradients(self, grads_and_vars):\n",
    "        for g, p in grads_and_vars:\n",
    "            p.assign_sub(self.lr * g)\n",
    "    \n",
    "# ===== Loss function =====  \n",
    "def binary_cross_entropy_with_logits(y_true, logits):\n",
    "    return tf.reduce_mean(tf.nn.sigmoid_cross_entropy_with_logits(labels=y_true, logits=logits))\n",
    "    \n",
    "model = LogisticRegression(input_dim=2)\n",
    "optimizer = SGD(learning_rate=1.00)"
   ]
  },
  {
   "cell_type": "markdown",
   "id": "eb39ccaa",
   "metadata": {},
   "source": [
    "### Train the model"
   ]
  },
  {
   "cell_type": "code",
   "execution_count": 9,
   "id": "4872f3ec",
   "metadata": {},
   "outputs": [
    {
     "name": "stdout",
     "output_type": "stream",
     "text": [
      " -> batch: 001 | loss: 0.69\n",
      " -> batch: 002 | loss: 0.43\n",
      "Epoch: 001/020 | epoch_loss: 1.12\n",
      " -> batch: 001 | loss: 0.28\n",
      " -> batch: 002 | loss: 0.27\n",
      "Epoch: 002/020 | epoch_loss: 0.54\n",
      " -> batch: 001 | loss: 0.18\n",
      " -> batch: 002 | loss: 0.19\n",
      "Epoch: 003/020 | epoch_loss: 0.37\n",
      " -> batch: 001 | loss: 0.18\n",
      " -> batch: 002 | loss: 0.12\n",
      "Epoch: 004/020 | epoch_loss: 0.30\n",
      " -> batch: 001 | loss: 0.16\n",
      " -> batch: 002 | loss: 0.09\n",
      "Epoch: 005/020 | epoch_loss: 0.25\n",
      " -> batch: 001 | loss: 0.14\n",
      " -> batch: 002 | loss: 0.07\n",
      "Epoch: 006/020 | epoch_loss: 0.22\n",
      " -> batch: 001 | loss: 0.10\n",
      " -> batch: 002 | loss: 0.09\n",
      "Epoch: 007/020 | epoch_loss: 0.19\n",
      " -> batch: 001 | loss: 0.08\n",
      " -> batch: 002 | loss: 0.09\n",
      "Epoch: 008/020 | epoch_loss: 0.17\n",
      " -> batch: 001 | loss: 0.06\n",
      " -> batch: 002 | loss: 0.10\n",
      "Epoch: 009/020 | epoch_loss: 0.16\n",
      " -> batch: 001 | loss: 0.05\n",
      " -> batch: 002 | loss: 0.09\n",
      "Epoch: 010/020 | epoch_loss: 0.14\n",
      " -> batch: 001 | loss: 0.05\n",
      " -> batch: 002 | loss: 0.09\n",
      "Epoch: 011/020 | epoch_loss: 0.14\n",
      " -> batch: 001 | loss: 0.09\n",
      " -> batch: 002 | loss: 0.04\n",
      "Epoch: 012/020 | epoch_loss: 0.13\n",
      " -> batch: 001 | loss: 0.08\n",
      " -> batch: 002 | loss: 0.04\n",
      "Epoch: 013/020 | epoch_loss: 0.12\n",
      " -> batch: 001 | loss: 0.05\n",
      " -> batch: 002 | loss: 0.06\n",
      "Epoch: 014/020 | epoch_loss: 0.11\n",
      " -> batch: 001 | loss: 0.07\n",
      " -> batch: 002 | loss: 0.04\n",
      "Epoch: 015/020 | epoch_loss: 0.11\n",
      " -> batch: 001 | loss: 0.06\n",
      " -> batch: 002 | loss: 0.04\n",
      "Epoch: 016/020 | epoch_loss: 0.10\n",
      " -> batch: 001 | loss: 0.04\n",
      " -> batch: 002 | loss: 0.06\n",
      "Epoch: 017/020 | epoch_loss: 0.10\n",
      " -> batch: 001 | loss: 0.04\n",
      " -> batch: 002 | loss: 0.06\n",
      "Epoch: 018/020 | epoch_loss: 0.09\n",
      " -> batch: 001 | loss: 0.03\n",
      " -> batch: 002 | loss: 0.06\n",
      "Epoch: 019/020 | epoch_loss: 0.09\n",
      " -> batch: 001 | loss: 0.04\n",
      " -> batch: 002 | loss: 0.05\n",
      "Epoch: 020/020 | epoch_loss: 0.09\n"
     ]
    }
   ],
   "source": [
    "def train(model, num_epochs):\n",
    "    history = []\n",
    "    for epoch in range(num_epochs):\n",
    "        epoch_loss = 0.0\n",
    "        for batch_idx, (x_batch, y_batch) in enumerate(train_ds):\n",
    "            # forward pass\n",
    "            with tf.GradientTape() as tape:                                \n",
    "                logits = model(x_batch)\n",
    "                loss = binary_cross_entropy_with_logits(y_batch, logits)\n",
    "            \n",
    "            # backward pass\n",
    "            gradients = tape.gradient(loss, model.parameters())\n",
    "            optimizer.apply_gradients(zip(gradients, model.parameters()))\n",
    "\n",
    "            epoch_loss += abs(loss.numpy())\n",
    "            history.append(loss.numpy())\n",
    "            print(f' -> batch: {batch_idx+1:03d} | loss: {loss:.2f}')\n",
    "            \n",
    "        print(f'Epoch: {epoch+1:03d}/{num_epochs:03d} | epoch_loss: {epoch_loss:.2f}')\n",
    "    return history\n",
    "        \n",
    "history = train(model, num_epochs=20)"
   ]
  },
  {
   "cell_type": "code",
   "execution_count": 10,
   "id": "f6660a31",
   "metadata": {},
   "outputs": [
    {
     "name": "stdout",
     "output_type": "stream",
     "text": [
      "Bias: [-0.17775175]\n",
      "Weights: [[2.3202603]\n",
      " [2.669406 ]]\n"
     ]
    }
   ],
   "source": [
    "bias = model.bias.numpy()\n",
    "weights = model.weights.numpy()\n",
    "print(\"Bias:\", bias)\n",
    "print(\"Weights:\", weights)"
   ]
  },
  {
   "cell_type": "markdown",
   "id": "220d88ae",
   "metadata": {},
   "source": [
    "### Evaluate the Model"
   ]
  },
  {
   "cell_type": "code",
   "execution_count": 11,
   "id": "586ff9e2",
   "metadata": {},
   "outputs": [
    {
     "name": "stdout",
     "output_type": "stream",
     "text": [
      "Train Accuracy: 1.00\n",
      "Confusion Matrix:\n",
      "[[10  0]\n",
      " [ 0 10]]\n"
     ]
    }
   ],
   "source": [
    "predictions = model.predict(X_train)\n",
    "y_preds = tf.cast(predictions >= 0.5, tf.float32)\n",
    "\n",
    "train_acc = accuracy_score(y_train, y_preds)\n",
    "print(f\"Train Accuracy: {train_acc:.2f}\")\n",
    "\n",
    "cmat = confusion_matrix(y_train, y_preds)\n",
    "print(\"Confusion Matrix:\")\n",
    "print(cmat)"
   ]
  },
  {
   "cell_type": "markdown",
   "id": "91eeebf9",
   "metadata": {},
   "source": [
    "### Vizualize the Results"
   ]
  },
  {
   "cell_type": "code",
   "execution_count": 12,
   "id": "6e322c29",
   "metadata": {},
   "outputs": [
    {
     "data": {
      "image/png": "[encoded data removed]",
      "text/plain": [
       "<Figure size 640x480 with 1 Axes>"
      ]
     },
     "metadata": {},
     "output_type": "display_data"
    }
   ],
   "source": [
    "plot_feature2d(X_train, y_train, bias, weights, markersize=8)"
   ]
  }
 ],
 "metadata": {
  "kernelspec": {
   "display_name": "Python 3",
   "language": "python",
   "name": "python3"
  },
  "language_info": {
   "codemirror_mode": {
    "name": "ipython",
    "version": 3
   },
   "file_extension": ".py",
   "mimetype": "text/x-python",
   "name": "python",
   "nbconvert_exporter": "python",
   "pygments_lexer": "ipython3",
   "version": "3.11.9"
  }
 },
 "nbformat": 4,
 "nbformat_minor": 5
}
