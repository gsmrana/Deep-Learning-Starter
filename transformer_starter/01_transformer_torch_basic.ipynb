{
 "cells": [
  {
   "cell_type": "code",
   "execution_count": 1,
   "id": "1562d000",
   "metadata": {},
   "outputs": [],
   "source": [
    "import torch\n",
    "import torch.nn as nn\n",
    "import torch.nn.functional as F\n",
    "from torchinfo import summary"
   ]
  },
  {
   "cell_type": "markdown",
   "id": "b315802c",
   "metadata": {},
   "source": [
    "### Transformer Model"
   ]
  },
  {
   "cell_type": "code",
   "execution_count": 2,
   "id": "7de6a628",
   "metadata": {},
   "outputs": [],
   "source": [
    "class Seq2SeqTransformer(nn.Module):\n",
    "    def __init__(self, vocab_size, d_model=512, nhead=8, num_layers=6):\n",
    "        super().__init__()\n",
    "        self.embedding = nn.Embedding(vocab_size, d_model)\n",
    "        self.pos_encoder = nn.Parameter(torch.zeros(1, 100, d_model))  # simple positional embedding\n",
    "        self.transformer = nn.Transformer(\n",
    "            d_model = d_model, \n",
    "            nhead = nhead,\n",
    "            num_encoder_layers = num_layers,\n",
    "            num_decoder_layers = num_layers,\n",
    "            dim_feedforward = 2048,\n",
    "            dropout = 0.1,\n",
    "            batch_first=True # (batch, seq, feature)\n",
    "        )\n",
    "        self.fc_out = nn.Linear(d_model, vocab_size)\n",
    "\n",
    "    def forward(self, src, tgt):\n",
    "        src = self.embedding(src) + self.pos_encoder[:, :src.size(1)]\n",
    "        tgt = self.embedding(tgt) + self.pos_encoder[:, :tgt.size(1)]\n",
    "        out = self.transformer(src, tgt)\n",
    "        return self.fc_out(out)"
   ]
  },
  {
   "cell_type": "code",
   "execution_count": 3,
   "id": "a4ad3eaf",
   "metadata": {},
   "outputs": [
    {
     "data": {
      "text/plain": [
       "===============================================================================================\n",
       "Layer (type:depth-idx)                                                 Param #\n",
       "===============================================================================================\n",
       "Seq2SeqTransformer                                                     51,200\n",
       "├─Embedding: 1-1                                                       512,000\n",
       "├─Transformer: 1-2                                                     --\n",
       "│    └─TransformerEncoder: 2-1                                         --\n",
       "│    │    └─ModuleList: 3-1                                            --\n",
       "│    │    │    └─TransformerEncoderLayer: 4-1                          3,152,384\n",
       "│    │    │    └─TransformerEncoderLayer: 4-2                          3,152,384\n",
       "│    │    │    └─TransformerEncoderLayer: 4-3                          3,152,384\n",
       "│    │    │    └─TransformerEncoderLayer: 4-4                          3,152,384\n",
       "│    │    │    └─TransformerEncoderLayer: 4-5                          3,152,384\n",
       "│    │    │    └─TransformerEncoderLayer: 4-6                          3,152,384\n",
       "│    │    └─LayerNorm: 3-2                                             1,024\n",
       "│    └─TransformerDecoder: 2-2                                         --\n",
       "│    │    └─ModuleList: 3-3                                            --\n",
       "│    │    │    └─TransformerDecoderLayer: 4-7                          4,204,032\n",
       "│    │    │    └─TransformerDecoderLayer: 4-8                          4,204,032\n",
       "│    │    │    └─TransformerDecoderLayer: 4-9                          4,204,032\n",
       "│    │    │    └─TransformerDecoderLayer: 4-10                         4,204,032\n",
       "│    │    │    └─TransformerDecoderLayer: 4-11                         4,204,032\n",
       "│    │    │    └─TransformerDecoderLayer: 4-12                         4,204,032\n",
       "│    │    └─LayerNorm: 3-4                                             1,024\n",
       "├─Linear: 1-3                                                          513,000\n",
       "===============================================================================================\n",
       "Total params: 45,216,744\n",
       "Trainable params: 45,216,744\n",
       "Non-trainable params: 0\n",
       "==============================================================================================="
      ]
     },
     "execution_count": 3,
     "metadata": {},
     "output_type": "execute_result"
    }
   ],
   "source": [
    "vocab_size = 1000 # sequence length\n",
    "batch_size = 2\n",
    "\n",
    "model = Seq2SeqTransformer(vocab_size)\n",
    "summary(model, depth=4)"
   ]
  },
  {
   "cell_type": "code",
   "execution_count": 4,
   "id": "d4bd8ee6",
   "metadata": {},
   "outputs": [
    {
     "name": "stdout",
     "output_type": "stream",
     "text": [
      "Output shape: torch.Size([2, 10, 1000])\n"
     ]
    }
   ],
   "source": [
    "# dummy data\n",
    "src_seq = torch.randint(0, vocab_size, (batch_size, 10))\n",
    "tgt_seq = torch.randint(0, vocab_size, (batch_size, 10))\n",
    "\n",
    "output = model(src_seq, tgt_seq)\n",
    "print(\"Output shape:\", output.shape)  # (batch, seq, vocab_size)"
   ]
  }
 ],
 "metadata": {
  "kernelspec": {
   "display_name": "Python 3",
   "language": "python",
   "name": "python3"
  },
  "language_info": {
   "codemirror_mode": {
    "name": "ipython",
    "version": 3
   },
   "file_extension": ".py",
   "mimetype": "text/x-python",
   "name": "python",
   "nbconvert_exporter": "python",
   "pygments_lexer": "ipython3",
   "version": "3.12.10"
  }
 },
 "nbformat": 4,
 "nbformat_minor": 5
}
